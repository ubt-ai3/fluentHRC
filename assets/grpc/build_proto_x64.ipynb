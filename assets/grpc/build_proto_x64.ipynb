{
 "cells": [
  {
   "cell_type": "code",
   "execution_count": 20,
   "metadata": {},
   "outputs": [],
   "source": [
    "import os\n",
    "import sys\n",
    "from pathlib import Path\n",
    "from hashlib import md5\n",
    "\n",
    "def md5_file(file):\n",
    "    with open(file, \"r\") as handle:\n",
    "        return md5(handle.read().encode()).hexdigest()\n",
    "\n",
    "def equal_file(file0, file1):\n",
    "    return md5_file(file0) == md5_file(file1)\n",
    "\n",
    "def intersection(lst1, lst2):\n",
    "    return [value for value in lst1 if value in lst2]\n",
    "\n",
    "def left_diff(lst1, lst2):\n",
    "    return [value for value in lst1 if value not in lst2]\n",
    "\n",
    "def right_diff(lst1, lst2):\n",
    "    return left_diff(lst2, lst1)\n",
    "\n",
    "def find_tool_dir(script_dir):\n",
    "    tool_dir = \"\"\n",
    "    return tool_dir\n",
    "\n",
    "script_dir = Path(os.path.realpath(sys.path[0]))\n",
    "\n",
    "def find_tool_dir(script_dir):\n",
    "    temp_dir = (script_dir / \"..\" / \"..\" / \"externals/vcpkg/x64-windows/tools\").resolve()\n",
    "    if os.path.isfile(temp_dir / \"grpc/grpc_cpp_plugin.exe\") == True:\n",
    "        return temp_dir\n",
    "\n",
    "    #search for alternative tools dir\n",
    "    temp_dir = (script_dir / \"..\" / \"..\" / \"externals\").resolve()\n",
    "    for root, dirs, files in os.walk(temp_dir):\n",
    "        for name in files:\n",
    "            if name == \"grpc_cpp_plugin.exe\":\n",
    "                return (Path(root) / \"..\").resolve() \n",
    "\n",
    "tools = find_tool_dir(script_dir)\n",
    "plugin = tools / \"grpc/grpc_cpp_plugin.exe\"\n",
    "protoc = tools / \"protobuf/protoc.exe\"\n",
    "\n",
    "proto_dir = script_dir / \"proto\"\n",
    "output_dir = script_dir / \"generated\" / \"x64\"\n",
    "\n",
    "existing_files = list()\n",
    "\n",
    "if os.path.isdir(output_dir):\n",
    "    existing_files = os.listdir(output_dir)\n",
    "else:\n",
    "    os.makedirs(output_dir, exist_ok=True)\n",
    "\n",
    "#print(script_dir)\n",
    "#print(tools)\n",
    "#print(plugin)\n",
    "#print(protoc)\n",
    "#print(proto_dir)\n",
    "#print(output_dir)\n",
    "#print(existing_files)\n"
   ]
  },
  {
   "cell_type": "code",
   "execution_count": 21,
   "metadata": {},
   "outputs": [],
   "source": [
    "import tempfile\n",
    "import subprocess\n",
    "import time\n",
    "\n",
    "with tempfile.TemporaryDirectory() as tmpdirname:\n",
    "    #print('created temporary directory', tmpdirname)\n",
    "    tempdir = Path(tmpdirname)\n",
    "    cmd = protoc.as_posix() + \" -I \" + proto_dir.as_posix() + \" --grpc_out=\" + tempdir.as_posix() + \" --cpp_out=\" + tempdir.as_posix() + \" --plugin=protoc-gen-grpc=\" + plugin.as_posix() + \" \" + proto_dir.as_posix() + \"/*\"\n",
    "    #print(cmd)\n",
    "    process = subprocess.Popen(cmd) #TODO:: no errors or messages are put out?\n",
    "    outs, errs = process.communicate()\n",
    "\n",
    "    if outs:\n",
    "        print(\"output\")\n",
    "        print(outs)\n",
    "    if errs:\n",
    "        print(\"errs\")\n",
    "        print(errs)\n",
    "\n",
    "    gen_files = os.listdir(tempdir)\n",
    "\n",
    "    duplicated_files = intersection(existing_files, gen_files)\n",
    "    to_delete_files = left_diff(existing_files, gen_files)\n",
    "    to_copy_files = right_diff(existing_files, gen_files)\n",
    "\n",
    "    for file in duplicated_files:\n",
    "        if not equal_file(output_dir / file, tempdir / file):\n",
    "            to_delete_files.append(file)\n",
    "            to_copy_files.append(file)\n",
    "\n",
    "    for file in to_delete_files:\n",
    "        os.remove(output_dir / file)\n",
    "        #print(output_dir / file)\n",
    "\n",
    "    #print()\n",
    "    for file in to_copy_files:\n",
    "        Path(tempdir / file).rename(output_dir / file)\n",
    "        #print(tempdir / file, \" -> \", output_dir / file)\n"
   ]
  },
  {
   "cell_type": "code",
   "execution_count": 41,
   "metadata": {},
   "outputs": [],
   "source": []
  },
  {
   "cell_type": "code",
   "execution_count": 43,
   "metadata": {},
   "outputs": [
    {
     "name": "stdout",
     "output_type": "stream",
     "text": [
      "[2, 4]\n",
      "[1, 3]\n",
      "[5, 7]\n"
     ]
    }
   ],
   "source": [
    "def intersection(lst1, lst2):\n",
    "    return [value for value in lst1 if value in lst2]\n",
    "\n",
    "def left_diff(lst1, lst2):\n",
    "    return [value for value in lst1 if value not in lst2]\n",
    "\n",
    "def right_diff(lst1, lst2):\n",
    "    return left_diff(lst2, lst1)\n",
    "\n",
    "l1 = [1, 2, 3, 4]\n",
    "l2 = [2, 4, 5, 7]\n",
    "\n",
    "print(intersection(l1, l2))\n",
    "print(left_diff(l1, l2))\n",
    "print(right_diff(l1, l2))"
   ]
  },
  {
   "cell_type": "code",
   "execution_count": 16,
   "metadata": {},
   "outputs": [],
   "source": [
    "script_dir = Path(os.path.realpath(sys.path[0]))\n",
    "\n",
    "\n",
    "def find_tool_dir(script_dir):\n",
    "    temp_dir = (script_dir / \"..\" / \"..\" / \"externals\").resolve()\n",
    "    for root, dirs, files in os.walk(temp_dir):\n",
    "        for name in files:\n",
    "            if name == \"grpc_cpp_plugin.exe\":\n",
    "                return (Path(root) / \"..\").resolve() \n",
    "            "
   ]
  },
  {
   "cell_type": "code",
   "execution_count": 17,
   "metadata": {},
   "outputs": [
    {
     "data": {
      "text/plain": [
       "WindowsPath('C:/Code/user-study-volumes/externals/CoordTrafoUtil/vcpkg_installed/x64-windows/x64-windows/tools')"
      ]
     },
     "execution_count": 17,
     "metadata": {},
     "output_type": "execute_result"
    }
   ],
   "source": [
    "find_tool_dir(script_dir)"
   ]
  },
  {
   "cell_type": "code",
   "execution_count": null,
   "metadata": {},
   "outputs": [],
   "source": []
  }
 ],
 "metadata": {
  "kernelspec": {
   "display_name": "Python 3",
   "language": "python",
   "name": "python3"
  },
  "language_info": {
   "codemirror_mode": {
    "name": "ipython",
    "version": 3
   },
   "file_extension": ".py",
   "mimetype": "text/x-python",
   "name": "python",
   "nbconvert_exporter": "python",
   "pygments_lexer": "ipython3",
   "version": "3.11.9"
  }
 },
 "nbformat": 4,
 "nbformat_minor": 2
}
